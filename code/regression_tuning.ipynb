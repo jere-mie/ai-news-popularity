{
 "cells": [
  {
   "cell_type": "code",
   "execution_count": 1,
   "metadata": {},
   "outputs": [],
   "source": [
    "# imports\n",
    "import pandas as pd\n",
    "from sklearn.linear_model import LinearRegression, Ridge, Lasso\n",
    "from sklearn.tree import DecisionTreeRegressor\n",
    "from sklearn.ensemble import RandomForestRegressor, GradientBoostingRegressor\n",
    "from sklearn.neighbors import KNeighborsRegressor\n",
    "from sklearn.model_selection import train_test_split, GridSearchCV"
   ]
  },
  {
   "cell_type": "code",
   "execution_count": 2,
   "metadata": {},
   "outputs": [],
   "source": [
    "# loading data\n",
    "data = pd.read_csv('data/OnlineNewsPopularityCleanRegression.csv')\n",
    "\n",
    "# 80/20 split between training data and test data\n",
    "X_train, X_test, Y_train, Y_test = train_test_split(data[[\"n_tokens_title\", \"n_tokens_content\", \"n_unique_tokens\", \"n_non_stop_words\", \"n_non_stop_unique_tokens\", \"num_hrefs\", \"num_self_hrefs\", \"num_imgs\", \"num_videos\", \"average_token_length\", \"num_keywords\", \"data_channel_is_lifestyle\", \"data_channel_is_entertainment\", \"data_channel_is_bus\", \"data_channel_is_socmed\", \"data_channel_is_tech\", \"data_channel_is_world\", \"kw_min_min\", \"kw_max_min\", \"kw_avg_min\", \"kw_min_max\", \"kw_max_max\", \"kw_avg_max\", \"kw_min_avg\", \"kw_max_avg\", \"kw_avg_avg\", \"self_reference_min_shares\", \"self_reference_max_shares\", \"self_reference_avg_sharess\", \"weekday_is_monday\", \"weekday_is_tuesday\", \"weekday_is_wednesday\", \"weekday_is_thursday\", \"weekday_is_friday\", \"weekday_is_saturday\", \"weekday_is_sunday\", \"is_weekend\", \"LDA_00\", \"LDA_01\", \"LDA_02\", \"LDA_03\", \"LDA_04\", \"global_subjectivity\", \"global_sentiment_polarity\", \"global_rate_positive_words\", \"global_rate_negative_words\", \"rate_positive_words\", \"rate_negative_words\", \"avg_positive_polarity\", \"min_positive_polarity\", \"max_positive_polarity\", \"avg_negative_polarity\", \"min_negative_polarity\", \"max_negative_polarity\", \"title_subjectivity\", \"title_sentiment_polarity\", \"abs_title_subjectivity\", \"abs_title_sentiment_polarity\"]], \n",
    "                                                    data['shares'], test_size=0.2, random_state=112)\n",
    "\n",
    "# different regression models to test\n",
    "models = [LinearRegression(n_jobs=-1),\n",
    "          Ridge(),\n",
    "          Lasso(),\n",
    "          DecisionTreeRegressor(),\n",
    "          RandomForestRegressor(n_jobs=-1),\n",
    "          GradientBoostingRegressor(),\n",
    "          KNeighborsRegressor(n_jobs=-1),\n",
    "        ]\n",
    "\n",
    "model_names = ['Linear Regression', 'Ridge', 'Lasso', 'Decision Tree', 'Random Forest', 'Gradient Boosting', 'K-NN']"
   ]
  },
  {
   "cell_type": "code",
   "execution_count": 3,
   "metadata": {},
   "outputs": [],
   "source": [
    "def print_results(results):\n",
    "    print(f'BEST PARAMS: {results.best_params_}\\n')\n",
    "\n",
    "    means = sorted(results.cv_results_['mean_test_score'], reverse=True)\n",
    "    stds = results.cv_results_['std_test_score']\n",
    "    for mean, std, params in zip(means, stds, results.cv_results_['params']):\n",
    "        print(f'{round(mean,3)} (+/- {round(std * 2, 3)}) for {params}')"
   ]
  },
  {
   "cell_type": "code",
   "execution_count": 4,
   "metadata": {},
   "outputs": [
    {
     "name": "stdout",
     "output_type": "stream",
     "text": [
      "RUNNING Linear Regression\n",
      "BEST PARAMS: {'fit_intercept': False, 'positive': True}\n",
      "\n",
      "0.018 (+/- 0.511) for {'fit_intercept': False, 'positive': False}\n",
      "-0.108 (+/- 0.016) for {'fit_intercept': False, 'positive': True}\n",
      "-0.109 (+/- 0.511) for {'fit_intercept': True, 'positive': False}\n",
      "-6.615383143997146e+16 (+/- 2.6461532575988582e+17) for {'fit_intercept': True, 'positive': True}\n"
     ]
    }
   ],
   "source": [
    "# tuning linear regression\n",
    "print(f\"RUNNING {model_names[0]}\")\n",
    "dtparams = {\n",
    "    'fit_intercept': [False, True],\n",
    "    'positive': [False, True]\n",
    "}\n",
    "cv = GridSearchCV(models[0], dtparams, cv=5, n_jobs=32)\n",
    "cv.fit(X_train, Y_train.values.ravel())\n",
    "print_results(cv)"
   ]
  },
  {
   "cell_type": "code",
   "execution_count": 5,
   "metadata": {},
   "outputs": [
    {
     "name": "stdout",
     "output_type": "stream",
     "text": [
      "RUNNING Ridge\n"
     ]
    }
   ],
   "source": [
    "# tuning Ridge\n",
    "print(f\"RUNNING {model_names[1]}\")\n",
    "dtparams = {\n",
    "    'alpha': [0.5, 1],\n",
    "    'fit_intercept': [False, True],\n",
    "    'positive': [False, True],\n",
    "    'max_iter': [1000, 5000, 15000],\n",
    "    'solver': ['auto', 'svd', 'cholesky', 'lsqr', 'sparse_cg', 'sag', 'saga', 'lbfgs']\n",
    "}\n",
    "cv = GridSearchCV(models[1], dtparams, cv=5, n_jobs=6)\n",
    "cv.fit(X_train, Y_train.values.ravel())\n",
    "print_results(cv)"
   ]
  },
  {
   "cell_type": "code",
   "execution_count": 11,
   "metadata": {},
   "outputs": [
    {
     "name": "stdout",
     "output_type": "stream",
     "text": [
      "BEST PARAMS: {'alpha': 0.5, 'fit_intercept': True, 'max_iter': 1000, 'positive': False, 'selection': 'cyclic'}\n",
      "\n",
      "0.07 (+/- 0.023) for {'alpha': 0.5, 'fit_intercept': False, 'max_iter': 1000, 'positive': False, 'selection': 'cyclic'}\n",
      "0.07 (+/- 0.023) for {'alpha': 0.5, 'fit_intercept': False, 'max_iter': 1000, 'positive': False, 'selection': 'random'}\n",
      "0.07 (+/- 0.025) for {'alpha': 0.5, 'fit_intercept': False, 'max_iter': 1000, 'positive': True, 'selection': 'cyclic'}\n",
      "0.07 (+/- 0.025) for {'alpha': 0.5, 'fit_intercept': False, 'max_iter': 1000, 'positive': True, 'selection': 'random'}\n",
      "0.07 (+/- 0.023) for {'alpha': 0.5, 'fit_intercept': False, 'max_iter': 5000, 'positive': False, 'selection': 'cyclic'}\n",
      "0.07 (+/- 0.023) for {'alpha': 0.5, 'fit_intercept': False, 'max_iter': 5000, 'positive': False, 'selection': 'random'}\n",
      "0.07 (+/- 0.025) for {'alpha': 0.5, 'fit_intercept': False, 'max_iter': 5000, 'positive': True, 'selection': 'cyclic'}\n",
      "0.07 (+/- 0.025) for {'alpha': 0.5, 'fit_intercept': False, 'max_iter': 5000, 'positive': True, 'selection': 'random'}\n",
      "0.07 (+/- 0.023) for {'alpha': 0.5, 'fit_intercept': False, 'max_iter': 15000, 'positive': False, 'selection': 'cyclic'}\n",
      "0.07 (+/- 0.023) for {'alpha': 0.5, 'fit_intercept': False, 'max_iter': 15000, 'positive': False, 'selection': 'random'}\n",
      "0.07 (+/- 0.025) for {'alpha': 0.5, 'fit_intercept': False, 'max_iter': 15000, 'positive': True, 'selection': 'cyclic'}\n",
      "0.07 (+/- 0.025) for {'alpha': 0.5, 'fit_intercept': False, 'max_iter': 15000, 'positive': True, 'selection': 'random'}\n",
      "0.066 (+/- 0.017) for {'alpha': 0.5, 'fit_intercept': True, 'max_iter': 1000, 'positive': False, 'selection': 'cyclic'}\n",
      "0.066 (+/- 0.017) for {'alpha': 0.5, 'fit_intercept': True, 'max_iter': 1000, 'positive': False, 'selection': 'random'}\n",
      "0.066 (+/- 0.017) for {'alpha': 0.5, 'fit_intercept': True, 'max_iter': 1000, 'positive': True, 'selection': 'cyclic'}\n",
      "0.066 (+/- 0.017) for {'alpha': 0.5, 'fit_intercept': True, 'max_iter': 1000, 'positive': True, 'selection': 'random'}\n",
      "0.066 (+/- 0.017) for {'alpha': 0.5, 'fit_intercept': True, 'max_iter': 5000, 'positive': False, 'selection': 'cyclic'}\n",
      "0.066 (+/- 0.017) for {'alpha': 0.5, 'fit_intercept': True, 'max_iter': 5000, 'positive': False, 'selection': 'random'}\n",
      "0.065 (+/- 0.017) for {'alpha': 0.5, 'fit_intercept': True, 'max_iter': 5000, 'positive': True, 'selection': 'cyclic'}\n",
      "0.065 (+/- 0.017) for {'alpha': 0.5, 'fit_intercept': True, 'max_iter': 5000, 'positive': True, 'selection': 'random'}\n",
      "0.065 (+/- 0.017) for {'alpha': 0.5, 'fit_intercept': True, 'max_iter': 15000, 'positive': False, 'selection': 'cyclic'}\n",
      "0.065 (+/- 0.017) for {'alpha': 0.5, 'fit_intercept': True, 'max_iter': 15000, 'positive': False, 'selection': 'random'}\n",
      "0.065 (+/- 0.017) for {'alpha': 0.5, 'fit_intercept': True, 'max_iter': 15000, 'positive': True, 'selection': 'cyclic'}\n",
      "0.065 (+/- 0.017) for {'alpha': 0.5, 'fit_intercept': True, 'max_iter': 15000, 'positive': True, 'selection': 'random'}\n",
      "0.048 (+/- 0.024) for {'alpha': 1, 'fit_intercept': False, 'max_iter': 1000, 'positive': False, 'selection': 'cyclic'}\n",
      "0.048 (+/- 0.024) for {'alpha': 1, 'fit_intercept': False, 'max_iter': 1000, 'positive': False, 'selection': 'random'}\n",
      "0.048 (+/- 0.026) for {'alpha': 1, 'fit_intercept': False, 'max_iter': 1000, 'positive': True, 'selection': 'cyclic'}\n",
      "0.048 (+/- 0.026) for {'alpha': 1, 'fit_intercept': False, 'max_iter': 1000, 'positive': True, 'selection': 'random'}\n",
      "0.048 (+/- 0.024) for {'alpha': 1, 'fit_intercept': False, 'max_iter': 5000, 'positive': False, 'selection': 'cyclic'}\n",
      "0.048 (+/- 0.024) for {'alpha': 1, 'fit_intercept': False, 'max_iter': 5000, 'positive': False, 'selection': 'random'}\n",
      "0.047 (+/- 0.026) for {'alpha': 1, 'fit_intercept': False, 'max_iter': 5000, 'positive': True, 'selection': 'cyclic'}\n",
      "0.047 (+/- 0.026) for {'alpha': 1, 'fit_intercept': False, 'max_iter': 5000, 'positive': True, 'selection': 'random'}\n",
      "0.047 (+/- 0.024) for {'alpha': 1, 'fit_intercept': False, 'max_iter': 15000, 'positive': False, 'selection': 'cyclic'}\n",
      "0.047 (+/- 0.024) for {'alpha': 1, 'fit_intercept': False, 'max_iter': 15000, 'positive': False, 'selection': 'random'}\n",
      "0.047 (+/- 0.026) for {'alpha': 1, 'fit_intercept': False, 'max_iter': 15000, 'positive': True, 'selection': 'cyclic'}\n",
      "0.047 (+/- 0.026) for {'alpha': 1, 'fit_intercept': False, 'max_iter': 15000, 'positive': True, 'selection': 'random'}\n",
      "0.038 (+/- 0.017) for {'alpha': 1, 'fit_intercept': True, 'max_iter': 1000, 'positive': False, 'selection': 'cyclic'}\n",
      "0.038 (+/- 0.017) for {'alpha': 1, 'fit_intercept': True, 'max_iter': 1000, 'positive': False, 'selection': 'random'}\n",
      "0.038 (+/- 0.017) for {'alpha': 1, 'fit_intercept': True, 'max_iter': 1000, 'positive': True, 'selection': 'cyclic'}\n",
      "0.038 (+/- 0.017) for {'alpha': 1, 'fit_intercept': True, 'max_iter': 1000, 'positive': True, 'selection': 'random'}\n",
      "0.038 (+/- 0.017) for {'alpha': 1, 'fit_intercept': True, 'max_iter': 5000, 'positive': False, 'selection': 'cyclic'}\n",
      "0.038 (+/- 0.017) for {'alpha': 1, 'fit_intercept': True, 'max_iter': 5000, 'positive': False, 'selection': 'random'}\n",
      "0.037 (+/- 0.017) for {'alpha': 1, 'fit_intercept': True, 'max_iter': 5000, 'positive': True, 'selection': 'cyclic'}\n",
      "0.037 (+/- 0.017) for {'alpha': 1, 'fit_intercept': True, 'max_iter': 5000, 'positive': True, 'selection': 'random'}\n",
      "0.037 (+/- 0.017) for {'alpha': 1, 'fit_intercept': True, 'max_iter': 15000, 'positive': False, 'selection': 'cyclic'}\n",
      "0.037 (+/- 0.017) for {'alpha': 1, 'fit_intercept': True, 'max_iter': 15000, 'positive': False, 'selection': 'random'}\n",
      "0.037 (+/- 0.017) for {'alpha': 1, 'fit_intercept': True, 'max_iter': 15000, 'positive': True, 'selection': 'cyclic'}\n",
      "0.036 (+/- 0.017) for {'alpha': 1, 'fit_intercept': True, 'max_iter': 15000, 'positive': True, 'selection': 'random'}\n"
     ]
    }
   ],
   "source": [
    "# tuning Lasso\n",
    "print(f\"RUNNING {model_names[2]}\")\n",
    "dtparams = {\n",
    "    'alpha': [0.5, 1],\n",
    "    'fit_intercept': [False, True],\n",
    "    'positive': [False, True],\n",
    "    'max_iter': [1000, 5000, 15000],\n",
    "    'selection': ['cyclic', 'random']\n",
    "}\n",
    "cv = GridSearchCV(models[2], dtparams, cv=5, n_jobs=32)\n",
    "cv.fit(X_train, Y_train.values.ravel())\n",
    "print_results(cv)"
   ]
  },
  {
   "cell_type": "code",
   "execution_count": 6,
   "metadata": {},
   "outputs": [
    {
     "ename": "NameError",
     "evalue": "name 'print_results' is not defined",
     "output_type": "error",
     "traceback": [
      "\u001b[1;31m---------------------------------------------------------------------------\u001b[0m",
      "\u001b[1;31mNameError\u001b[0m                                 Traceback (most recent call last)",
      "Cell \u001b[1;32mIn[6], line 8\u001b[0m\n\u001b[0;32m      6\u001b[0m cv \u001b[39m=\u001b[39m GridSearchCV(models[\u001b[39m3\u001b[39m], dtparams, cv\u001b[39m=\u001b[39m\u001b[39m5\u001b[39m, n_jobs\u001b[39m=\u001b[39m\u001b[39m8\u001b[39m)\n\u001b[0;32m      7\u001b[0m cv\u001b[39m.\u001b[39mfit(tr_features, tr_labels\u001b[39m.\u001b[39mvalues\u001b[39m.\u001b[39mravel())\n\u001b[1;32m----> 8\u001b[0m print_results(cv)\n",
      "\u001b[1;31mNameError\u001b[0m: name 'print_results' is not defined"
     ]
    }
   ],
   "source": [
    "# tuning Decision Tree\n",
    "print(f\"RUNNING {model_names[3]}\")\n",
    "dtparams = {\n",
    "    'criterion': ['squared_error', 'friedman_mse', 'absolute_error', 'poisson'],\n",
    "    'splitter': ['best', 'random'],\n",
    "    'max_features': [None, 'auto', 'sqrt', 'log2']\n",
    "}\n",
    "cv = GridSearchCV(models[3], dtparams, cv=5, n_jobs=8)\n",
    "cv.fit(X_train, Y_train.values.ravel())\n",
    "print_results(cv)"
   ]
  }
 ],
 "metadata": {
  "kernelspec": {
   "display_name": "Python 3",
   "language": "python",
   "name": "python3"
  },
  "language_info": {
   "codemirror_mode": {
    "name": "ipython",
    "version": 3
   },
   "file_extension": ".py",
   "mimetype": "text/x-python",
   "name": "python",
   "nbconvert_exporter": "python",
   "pygments_lexer": "ipython3",
   "version": "3.10.2"
  },
  "orig_nbformat": 4
 },
 "nbformat": 4,
 "nbformat_minor": 2
}
