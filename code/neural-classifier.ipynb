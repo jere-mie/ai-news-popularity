{
 "cells": [
  {
   "cell_type": "code",
   "execution_count": 1,
   "metadata": {},
   "outputs": [
    {
     "data": {
      "text/plain": [
       "[name: \"/device:CPU:0\"\n",
       " device_type: \"CPU\"\n",
       " memory_limit: 268435456\n",
       " locality {\n",
       " }\n",
       " incarnation: 6254558536063241807\n",
       " xla_global_id: -1,\n",
       " name: \"/device:GPU:0\"\n",
       " device_type: \"GPU\"\n",
       " memory_limit: 9883877376\n",
       " locality {\n",
       "   bus_id: 1\n",
       "   links {\n",
       "   }\n",
       " }\n",
       " incarnation: 6069842664808244276\n",
       " physical_device_desc: \"device: 0, name: NVIDIA GeForce RTX 3080 Ti, pci bus id: 0000:01:00.0, compute capability: 8.6\"\n",
       " xla_global_id: 416903419]"
      ]
     },
     "execution_count": 1,
     "metadata": {},
     "output_type": "execute_result"
    }
   ],
   "source": [
    "import numpy as np\n",
    "import pandas as pd\n",
    "\n",
    "from sklearn.preprocessing import MinMaxScaler\n",
    "from sklearn.metrics import mean_squared_error\n",
    "import tensorflow as tf\n",
    "from tensorflow import keras\n",
    "from keras import Sequential\n",
    "from keras.layers import Dense, Dropout, BatchNormalization\n",
    "from tensorflow.python.client import device_lib\n",
    "local_device_protos = device_lib.list_local_devices()\n",
    "device_lib.list_local_devices()"
   ]
  },
  {
   "cell_type": "code",
   "execution_count": 2,
   "metadata": {},
   "outputs": [],
   "source": [
    "tr_features = pd.read_csv('data/train_features.csv')\n",
    "tr_labels = pd.read_csv('data/train_labels.csv')\n",
    "\n",
    "te_features = pd.read_csv('data/test_features.csv')\n",
    "te_labels = pd.read_csv('data/test_labels.csv')"
   ]
  },
  {
   "cell_type": "code",
   "execution_count": 3,
   "metadata": {},
   "outputs": [],
   "source": [
    "columns = ['n_tokens_title', 'n_tokens_content', 'n_unique_tokens',\n",
    "       'n_non_stop_words', 'n_non_stop_unique_tokens', 'num_hrefs',\n",
    "       'num_self_hrefs', 'num_imgs', 'num_videos', 'average_token_length',\n",
    "       'num_keywords', 'data_channel_is_lifestyle',\n",
    "       'data_channel_is_entertainment', 'data_channel_is_bus',\n",
    "       'data_channel_is_socmed', 'data_channel_is_tech',\n",
    "       'data_channel_is_world', 'kw_min_min', 'kw_max_min', 'kw_avg_min',\n",
    "       'kw_min_max', 'kw_max_max', 'kw_avg_max', 'kw_min_avg', 'kw_max_avg',\n",
    "       'kw_avg_avg', 'self_reference_min_shares', 'self_reference_max_shares',\n",
    "       'self_reference_avg_sharess', 'weekday_is_monday', 'weekday_is_tuesday',\n",
    "       'weekday_is_wednesday', 'weekday_is_thursday', 'weekday_is_friday',\n",
    "       'weekday_is_saturday', 'weekday_is_sunday', 'is_weekend', 'LDA_00',\n",
    "       'LDA_01', 'LDA_02', 'LDA_03', 'LDA_04', 'global_subjectivity',\n",
    "       'global_sentiment_polarity', 'global_rate_positive_words',\n",
    "       'global_rate_negative_words', 'rate_positive_words',\n",
    "       'rate_negative_words', 'avg_positive_polarity', 'min_positive_polarity',\n",
    "       'max_positive_polarity', 'avg_negative_polarity',\n",
    "       'min_negative_polarity', 'max_negative_polarity', 'title_subjectivity',\n",
    "       'title_sentiment_polarity', 'abs_title_subjectivity',\n",
    "       'abs_title_sentiment_polarity']\n",
    "scaler = MinMaxScaler()\n",
    "tr_features = pd.DataFrame(scaler.fit_transform(tr_features))\n",
    "te_features = pd.DataFrame(scaler.fit_transform(te_features))"
   ]
  },
  {
   "cell_type": "code",
   "execution_count": 4,
   "metadata": {},
   "outputs": [],
   "source": [
    "model = Sequential([\n",
    "    Dense(58, input_shape=[58]),\n",
    "    Dropout(0.5),\n",
    "    Dense(512, activation='softmax'),\n",
    "    Dropout(0.5),\n",
    "    Dense(512, activation='softmax'),\n",
    "    Dropout(0.5),\n",
    "    Dense(4, activation='softmax')\n",
    "])"
   ]
  },
  {
   "cell_type": "code",
   "execution_count": 5,
   "metadata": {},
   "outputs": [
    {
     "name": "stdout",
     "output_type": "stream",
     "text": [
      "Epoch 1/50\n",
      "WARNING:tensorflow:AutoGraph could not transform <function Model.make_train_function.<locals>.train_function at 0x000001E121CFB520> and will run it as-is.\n",
      "Please report this to the TensorFlow team. When filing the bug, set the verbosity to 10 (on Linux, `export AUTOGRAPH_VERBOSITY=10`) and attach the full output.\n",
      "Cause: module 'gast' has no attribute 'Constant'\n",
      "To silence this warning, decorate the function with @tf.autograph.experimental.do_not_convert\n",
      "WARNING: AutoGraph could not transform <function Model.make_train_function.<locals>.train_function at 0x000001E121CFB520> and will run it as-is.\n",
      "Please report this to the TensorFlow team. When filing the bug, set the verbosity to 10 (on Linux, `export AUTOGRAPH_VERBOSITY=10`) and attach the full output.\n",
      "Cause: module 'gast' has no attribute 'Constant'\n",
      "To silence this warning, decorate the function with @tf.autograph.experimental.do_not_convert\n",
      "31/31 [==============================] - 2s 4ms/step - loss: 1.3862 - accuracy: 0.2534\n",
      "Epoch 2/50\n",
      "31/31 [==============================] - 0s 4ms/step - loss: 1.3861 - accuracy: 0.2555\n",
      "Epoch 3/50\n",
      "31/31 [==============================] - 0s 4ms/step - loss: 1.3862 - accuracy: 0.2555\n",
      "Epoch 4/50\n",
      "31/31 [==============================] - 0s 4ms/step - loss: 1.3861 - accuracy: 0.2551\n",
      "Epoch 5/50\n",
      "31/31 [==============================] - 0s 4ms/step - loss: 1.3862 - accuracy: 0.2558\n",
      "Epoch 6/50\n",
      "31/31 [==============================] - 0s 4ms/step - loss: 1.3861 - accuracy: 0.2554\n",
      "Epoch 7/50\n",
      "31/31 [==============================] - 0s 4ms/step - loss: 1.3861 - accuracy: 0.2546\n",
      "Epoch 8/50\n",
      "31/31 [==============================] - 0s 4ms/step - loss: 1.3861 - accuracy: 0.2557\n",
      "Epoch 9/50\n",
      "31/31 [==============================] - 0s 4ms/step - loss: 1.3861 - accuracy: 0.2555\n",
      "Epoch 10/50\n",
      "31/31 [==============================] - 0s 4ms/step - loss: 1.3861 - accuracy: 0.2553\n",
      "Epoch 11/50\n",
      "31/31 [==============================] - 0s 4ms/step - loss: 1.3861 - accuracy: 0.2551\n",
      "Epoch 12/50\n",
      "31/31 [==============================] - 0s 4ms/step - loss: 1.3861 - accuracy: 0.2555\n",
      "Epoch 13/50\n",
      "31/31 [==============================] - 0s 4ms/step - loss: 1.3861 - accuracy: 0.2555\n",
      "Epoch 14/50\n",
      "31/31 [==============================] - 0s 4ms/step - loss: 1.3861 - accuracy: 0.2542\n",
      "Epoch 15/50\n",
      "31/31 [==============================] - 0s 4ms/step - loss: 1.3861 - accuracy: 0.2562\n",
      "Epoch 16/50\n",
      "31/31 [==============================] - 0s 4ms/step - loss: 1.3858 - accuracy: 0.2567\n",
      "Epoch 17/50\n",
      "31/31 [==============================] - 0s 4ms/step - loss: 1.3854 - accuracy: 0.2608\n",
      "Epoch 18/50\n",
      "31/31 [==============================] - 0s 4ms/step - loss: 1.3846 - accuracy: 0.2645\n",
      "Epoch 19/50\n",
      "31/31 [==============================] - 0s 4ms/step - loss: 1.3833 - accuracy: 0.2780\n",
      "Epoch 20/50\n",
      "31/31 [==============================] - 0s 4ms/step - loss: 1.3807 - accuracy: 0.2955\n",
      "Epoch 21/50\n",
      "31/31 [==============================] - 0s 4ms/step - loss: 1.3773 - accuracy: 0.2988\n",
      "Epoch 22/50\n",
      "31/31 [==============================] - 0s 4ms/step - loss: 1.3739 - accuracy: 0.2985\n",
      "Epoch 23/50\n",
      "31/31 [==============================] - 0s 4ms/step - loss: 1.3707 - accuracy: 0.3009\n",
      "Epoch 24/50\n",
      "31/31 [==============================] - 0s 4ms/step - loss: 1.3672 - accuracy: 0.3040\n",
      "Epoch 25/50\n",
      "31/31 [==============================] - 0s 4ms/step - loss: 1.3643 - accuracy: 0.3053\n",
      "Epoch 26/50\n",
      "31/31 [==============================] - 0s 4ms/step - loss: 1.3642 - accuracy: 0.3033\n",
      "Epoch 27/50\n",
      "31/31 [==============================] - 0s 4ms/step - loss: 1.3619 - accuracy: 0.3086\n",
      "Epoch 28/50\n",
      "31/31 [==============================] - 0s 4ms/step - loss: 1.3599 - accuracy: 0.3080\n",
      "Epoch 29/50\n",
      "31/31 [==============================] - 0s 4ms/step - loss: 1.3592 - accuracy: 0.3109\n",
      "Epoch 30/50\n",
      "31/31 [==============================] - 0s 4ms/step - loss: 1.3578 - accuracy: 0.3139\n",
      "Epoch 31/50\n",
      "31/31 [==============================] - 0s 4ms/step - loss: 1.3576 - accuracy: 0.3112\n",
      "Epoch 32/50\n",
      "31/31 [==============================] - 0s 4ms/step - loss: 1.3572 - accuracy: 0.3094\n",
      "Epoch 33/50\n",
      "31/31 [==============================] - 0s 4ms/step - loss: 1.3555 - accuracy: 0.3120\n",
      "Epoch 34/50\n",
      "31/31 [==============================] - 0s 4ms/step - loss: 1.3538 - accuracy: 0.3122\n",
      "Epoch 35/50\n",
      "31/31 [==============================] - 0s 4ms/step - loss: 1.3512 - accuracy: 0.3149\n",
      "Epoch 36/50\n",
      "31/31 [==============================] - 0s 4ms/step - loss: 1.3515 - accuracy: 0.3200\n",
      "Epoch 37/50\n",
      "31/31 [==============================] - 0s 4ms/step - loss: 1.3499 - accuracy: 0.3223\n",
      "Epoch 38/50\n",
      "31/31 [==============================] - 0s 4ms/step - loss: 1.3487 - accuracy: 0.3237\n",
      "Epoch 39/50\n",
      "31/31 [==============================] - 0s 4ms/step - loss: 1.3492 - accuracy: 0.3174\n",
      "Epoch 40/50\n",
      "31/31 [==============================] - 0s 4ms/step - loss: 1.3480 - accuracy: 0.3181\n",
      "Epoch 41/50\n",
      "31/31 [==============================] - 0s 4ms/step - loss: 1.3483 - accuracy: 0.3199\n",
      "Epoch 42/50\n",
      "31/31 [==============================] - 0s 4ms/step - loss: 1.3465 - accuracy: 0.3227\n",
      "Epoch 43/50\n",
      "31/31 [==============================] - 0s 4ms/step - loss: 1.3448 - accuracy: 0.3258\n",
      "Epoch 44/50\n",
      "31/31 [==============================] - 0s 4ms/step - loss: 1.3441 - accuracy: 0.3249\n",
      "Epoch 45/50\n",
      "31/31 [==============================] - 0s 4ms/step - loss: 1.3440 - accuracy: 0.3254\n",
      "Epoch 46/50\n",
      "31/31 [==============================] - 0s 4ms/step - loss: 1.3432 - accuracy: 0.3239\n",
      "Epoch 47/50\n",
      "31/31 [==============================] - 0s 4ms/step - loss: 1.3430 - accuracy: 0.3249\n",
      "Epoch 48/50\n",
      "31/31 [==============================] - 0s 4ms/step - loss: 1.3417 - accuracy: 0.3294\n",
      "Epoch 49/50\n",
      "31/31 [==============================] - 0s 4ms/step - loss: 1.3407 - accuracy: 0.3304\n",
      "Epoch 50/50\n",
      "31/31 [==============================] - 0s 4ms/step - loss: 1.3397 - accuracy: 0.3306\n"
     ]
    },
    {
     "data": {
      "text/plain": [
       "<keras.callbacks.History at 0x1e19f899300>"
      ]
     },
     "execution_count": 5,
     "metadata": {},
     "output_type": "execute_result"
    }
   ],
   "source": [
    "model.compile(optimizer='adam',\n",
    "              loss='sparse_categorical_crossentropy',\n",
    "              metrics=['accuracy'])\n",
    "model.fit(tr_features, tr_labels, epochs=50, batch_size=1024)"
   ]
  },
  {
   "cell_type": "code",
   "execution_count": 6,
   "metadata": {},
   "outputs": [
    {
     "name": "stdout",
     "output_type": "stream",
     "text": [
      "WARNING:tensorflow:AutoGraph could not transform <function Model.make_test_function.<locals>.test_function at 0x000001E19F947760> and will run it as-is.\n",
      "Please report this to the TensorFlow team. When filing the bug, set the verbosity to 10 (on Linux, `export AUTOGRAPH_VERBOSITY=10`) and attach the full output.\n",
      "Cause: module 'gast' has no attribute 'Constant'\n",
      "To silence this warning, decorate the function with @tf.autograph.experimental.do_not_convert\n",
      "WARNING: AutoGraph could not transform <function Model.make_test_function.<locals>.test_function at 0x000001E19F947760> and will run it as-is.\n",
      "Please report this to the TensorFlow team. When filing the bug, set the verbosity to 10 (on Linux, `export AUTOGRAPH_VERBOSITY=10`) and attach the full output.\n",
      "Cause: module 'gast' has no attribute 'Constant'\n",
      "To silence this warning, decorate the function with @tf.autograph.experimental.do_not_convert\n",
      "248/248 [==============================] - 0s 2ms/step - loss: 1.3330 - accuracy: 0.3558\n",
      "Loss: 1.3330116271972656\n",
      "Accuracy: 0.35578256845474243\n"
     ]
    }
   ],
   "source": [
    "loss, accuracy = model.evaluate(te_features, te_labels)\n",
    "print(\"Loss:\", loss)\n",
    "print(\"Accuracy:\", accuracy)"
   ]
  }
 ],
 "metadata": {
  "kernelspec": {
   "display_name": "Python 3",
   "language": "python",
   "name": "python3"
  },
  "language_info": {
   "codemirror_mode": {
    "name": "ipython",
    "version": 3
   },
   "file_extension": ".py",
   "mimetype": "text/x-python",
   "name": "python",
   "nbconvert_exporter": "python",
   "pygments_lexer": "ipython3",
   "version": "3.10.9"
  },
  "orig_nbformat": 4
 },
 "nbformat": 4,
 "nbformat_minor": 2
}
