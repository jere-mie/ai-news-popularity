{
 "cells": [
  {
   "cell_type": "code",
   "execution_count": 25,
   "metadata": {},
   "outputs": [
    {
     "data": {
      "text/plain": [
       "[name: \"/device:CPU:0\"\n",
       " device_type: \"CPU\"\n",
       " memory_limit: 268435456\n",
       " locality {\n",
       " }\n",
       " incarnation: 3763340705475581441\n",
       " xla_global_id: -1,\n",
       " name: \"/device:GPU:0\"\n",
       " device_type: \"GPU\"\n",
       " memory_limit: 9883877376\n",
       " locality {\n",
       "   bus_id: 1\n",
       "   links {\n",
       "   }\n",
       " }\n",
       " incarnation: 554956087486654673\n",
       " physical_device_desc: \"device: 0, name: NVIDIA GeForce RTX 3080 Ti, pci bus id: 0000:01:00.0, compute capability: 8.6\"\n",
       " xla_global_id: 416903419]"
      ]
     },
     "execution_count": 25,
     "metadata": {},
     "output_type": "execute_result"
    }
   ],
   "source": [
    "import numpy as np\n",
    "import pandas as pd\n",
    "from sklearn.preprocessing import MinMaxScaler\n",
    "from sklearn.metrics import mean_squared_error, classification_report\n",
    "import tensorflow as tf\n",
    "from tensorflow import keras\n",
    "from keras import Sequential\n",
    "from keras.layers import Dense, Dropout, BatchNormalization, Flatten\n",
    "from tensorflow.python.client import device_lib\n",
    "local_device_protos = device_lib.list_local_devices()\n",
    "device_lib.list_local_devices()"
   ]
  },
  {
   "cell_type": "code",
   "execution_count": 26,
   "metadata": {},
   "outputs": [],
   "source": [
    "tr_features = pd.read_csv('data/train_features.csv')\n",
    "tr_labels = pd.read_csv('data/train_labels.csv')\n",
    "\n",
    "te_features = pd.read_csv('data/test_features.csv')\n",
    "te_labels = pd.read_csv('data/test_labels.csv')"
   ]
  },
  {
   "cell_type": "code",
   "execution_count": 27,
   "metadata": {},
   "outputs": [],
   "source": [
    "columns = ['n_tokens_title', 'n_tokens_content', 'n_unique_tokens',\n",
    "       'n_non_stop_words', 'n_non_stop_unique_tokens', 'num_hrefs',\n",
    "       'num_self_hrefs', 'num_imgs', 'num_videos', 'average_token_length',\n",
    "       'num_keywords', 'data_channel_is_lifestyle',\n",
    "       'data_channel_is_entertainment', 'data_channel_is_bus',\n",
    "       'data_channel_is_socmed', 'data_channel_is_tech',\n",
    "       'data_channel_is_world', 'kw_min_min', 'kw_max_min', 'kw_avg_min',\n",
    "       'kw_min_max', 'kw_max_max', 'kw_avg_max', 'kw_min_avg', 'kw_max_avg',\n",
    "       'kw_avg_avg', 'self_reference_min_shares', 'self_reference_max_shares',\n",
    "       'self_reference_avg_sharess', 'weekday_is_monday', 'weekday_is_tuesday',\n",
    "       'weekday_is_wednesday', 'weekday_is_thursday', 'weekday_is_friday',\n",
    "       'weekday_is_saturday', 'weekday_is_sunday', 'is_weekend', 'LDA_00',\n",
    "       'LDA_01', 'LDA_02', 'LDA_03', 'LDA_04', 'global_subjectivity',\n",
    "       'global_sentiment_polarity', 'global_rate_positive_words',\n",
    "       'global_rate_negative_words', 'rate_positive_words',\n",
    "       'rate_negative_words', 'avg_positive_polarity', 'min_positive_polarity',\n",
    "       'max_positive_polarity', 'avg_negative_polarity',\n",
    "       'min_negative_polarity', 'max_negative_polarity', 'title_subjectivity',\n",
    "       'title_sentiment_polarity', 'abs_title_subjectivity',\n",
    "       'abs_title_sentiment_polarity']\n",
    "scaler = MinMaxScaler()\n",
    "tr_features = pd.DataFrame(scaler.fit_transform(tr_features))\n",
    "te_features = pd.DataFrame(scaler.fit_transform(te_features))"
   ]
  },
  {
   "cell_type": "code",
   "execution_count": 28,
   "metadata": {},
   "outputs": [],
   "source": [
    "model = Sequential([\n",
    "    Dense(58),\n",
    "    Dropout(0.5),\n",
    "    Dense(400, activation='softmax'),\n",
    "    Dropout(0.5),\n",
    "    Dense(400, activation='softmax'),\n",
    "    Dropout(0.5),\n",
    "    Dense(4, activation='softmax')\n",
    "])"
   ]
  },
  {
   "cell_type": "code",
   "execution_count": 29,
   "metadata": {},
   "outputs": [
    {
     "name": "stdout",
     "output_type": "stream",
     "text": [
      "Epoch 1/50\n",
      "WARNING:tensorflow:AutoGraph could not transform <function Model.make_train_function.<locals>.train_function at 0x000001CAB7B36830> and will run it as-is.\n",
      "Please report this to the TensorFlow team. When filing the bug, set the verbosity to 10 (on Linux, `export AUTOGRAPH_VERBOSITY=10`) and attach the full output.\n",
      "Cause: module 'gast' has no attribute 'Constant'\n",
      "To silence this warning, decorate the function with @tf.autograph.experimental.do_not_convert\n",
      "WARNING: AutoGraph could not transform <function Model.make_train_function.<locals>.train_function at 0x000001CAB7B36830> and will run it as-is.\n",
      "Please report this to the TensorFlow team. When filing the bug, set the verbosity to 10 (on Linux, `export AUTOGRAPH_VERBOSITY=10`) and attach the full output.\n",
      "Cause: module 'gast' has no attribute 'Constant'\n",
      "To silence this warning, decorate the function with @tf.autograph.experimental.do_not_convert\n",
      "31/31 [==============================] - 0s 3ms/step - loss: 1.3862 - accuracy: 0.2522\n",
      "Epoch 2/50\n",
      "31/31 [==============================] - 0s 3ms/step - loss: 1.3861 - accuracy: 0.2560\n",
      "Epoch 3/50\n",
      "31/31 [==============================] - 0s 3ms/step - loss: 1.3861 - accuracy: 0.2553\n",
      "Epoch 4/50\n",
      "31/31 [==============================] - 0s 3ms/step - loss: 1.3861 - accuracy: 0.2558\n",
      "Epoch 5/50\n",
      "31/31 [==============================] - 0s 5ms/step - loss: 1.3862 - accuracy: 0.2559\n",
      "Epoch 6/50\n",
      "31/31 [==============================] - 0s 4ms/step - loss: 1.3861 - accuracy: 0.2547\n",
      "Epoch 7/50\n",
      "31/31 [==============================] - 0s 4ms/step - loss: 1.3861 - accuracy: 0.2554\n",
      "Epoch 8/50\n",
      "31/31 [==============================] - 0s 4ms/step - loss: 1.3862 - accuracy: 0.2553\n",
      "Epoch 9/50\n",
      "31/31 [==============================] - 0s 4ms/step - loss: 1.3862 - accuracy: 0.2545\n",
      "Epoch 10/50\n",
      "31/31 [==============================] - 0s 4ms/step - loss: 1.3862 - accuracy: 0.2521\n",
      "Epoch 11/50\n",
      "31/31 [==============================] - 0s 4ms/step - loss: 1.3861 - accuracy: 0.2548\n",
      "Epoch 12/50\n",
      "31/31 [==============================] - 0s 4ms/step - loss: 1.3861 - accuracy: 0.2555\n",
      "Epoch 13/50\n",
      "31/31 [==============================] - 0s 4ms/step - loss: 1.3858 - accuracy: 0.2552\n",
      "Epoch 14/50\n",
      "31/31 [==============================] - 0s 4ms/step - loss: 1.3849 - accuracy: 0.2594\n",
      "Epoch 15/50\n",
      "31/31 [==============================] - 0s 4ms/step - loss: 1.3832 - accuracy: 0.2825\n",
      "Epoch 16/50\n",
      "31/31 [==============================] - 0s 4ms/step - loss: 1.3807 - accuracy: 0.2903\n",
      "Epoch 17/50\n",
      "31/31 [==============================] - 0s 4ms/step - loss: 1.3778 - accuracy: 0.2949\n",
      "Epoch 18/50\n",
      "31/31 [==============================] - 0s 4ms/step - loss: 1.3745 - accuracy: 0.2929\n",
      "Epoch 19/50\n",
      "31/31 [==============================] - 0s 4ms/step - loss: 1.3719 - accuracy: 0.2952\n",
      "Epoch 20/50\n",
      "31/31 [==============================] - 0s 3ms/step - loss: 1.3685 - accuracy: 0.2982\n",
      "Epoch 21/50\n",
      "31/31 [==============================] - 0s 4ms/step - loss: 1.3673 - accuracy: 0.2960\n",
      "Epoch 22/50\n",
      "31/31 [==============================] - 0s 3ms/step - loss: 1.3652 - accuracy: 0.2998\n",
      "Epoch 23/50\n",
      "31/31 [==============================] - 0s 4ms/step - loss: 1.3633 - accuracy: 0.2998\n",
      "Epoch 24/50\n",
      "31/31 [==============================] - 0s 4ms/step - loss: 1.3636 - accuracy: 0.2984\n",
      "Epoch 25/50\n",
      "31/31 [==============================] - 0s 4ms/step - loss: 1.3629 - accuracy: 0.2996\n",
      "Epoch 26/50\n",
      "31/31 [==============================] - 0s 4ms/step - loss: 1.3622 - accuracy: 0.2971\n",
      "Epoch 27/50\n",
      "31/31 [==============================] - 0s 4ms/step - loss: 1.3600 - accuracy: 0.3033\n",
      "Epoch 28/50\n",
      "31/31 [==============================] - 0s 4ms/step - loss: 1.3585 - accuracy: 0.3068\n",
      "Epoch 29/50\n",
      "31/31 [==============================] - 0s 4ms/step - loss: 1.3579 - accuracy: 0.3035\n",
      "Epoch 30/50\n",
      "31/31 [==============================] - 0s 4ms/step - loss: 1.3573 - accuracy: 0.3060\n",
      "Epoch 31/50\n",
      "31/31 [==============================] - 0s 4ms/step - loss: 1.3583 - accuracy: 0.3016\n",
      "Epoch 32/50\n",
      "31/31 [==============================] - 0s 4ms/step - loss: 1.3580 - accuracy: 0.3045\n",
      "Epoch 33/50\n",
      "31/31 [==============================] - 0s 4ms/step - loss: 1.3560 - accuracy: 0.3061\n",
      "Epoch 34/50\n",
      "31/31 [==============================] - 0s 4ms/step - loss: 1.3562 - accuracy: 0.3027\n",
      "Epoch 35/50\n",
      "31/31 [==============================] - 0s 4ms/step - loss: 1.3554 - accuracy: 0.3077\n",
      "Epoch 36/50\n",
      "31/31 [==============================] - 0s 4ms/step - loss: 1.3560 - accuracy: 0.3073\n",
      "Epoch 37/50\n",
      "31/31 [==============================] - 0s 4ms/step - loss: 1.3555 - accuracy: 0.3076\n",
      "Epoch 38/50\n",
      "31/31 [==============================] - 0s 4ms/step - loss: 1.3531 - accuracy: 0.3128\n",
      "Epoch 39/50\n",
      "31/31 [==============================] - 0s 4ms/step - loss: 1.3512 - accuracy: 0.3169\n",
      "Epoch 40/50\n",
      "31/31 [==============================] - 0s 4ms/step - loss: 1.3493 - accuracy: 0.3223\n",
      "Epoch 41/50\n",
      "31/31 [==============================] - 0s 4ms/step - loss: 1.3479 - accuracy: 0.3266\n",
      "Epoch 42/50\n",
      "31/31 [==============================] - 0s 4ms/step - loss: 1.3456 - accuracy: 0.3242\n",
      "Epoch 43/50\n",
      "31/31 [==============================] - 0s 4ms/step - loss: 1.3448 - accuracy: 0.3266\n",
      "Epoch 44/50\n",
      "31/31 [==============================] - 0s 4ms/step - loss: 1.3434 - accuracy: 0.3293\n",
      "Epoch 45/50\n",
      "31/31 [==============================] - 0s 4ms/step - loss: 1.3424 - accuracy: 0.3263\n",
      "Epoch 46/50\n",
      "31/31 [==============================] - 0s 4ms/step - loss: 1.3419 - accuracy: 0.3305\n",
      "Epoch 47/50\n",
      "31/31 [==============================] - 0s 4ms/step - loss: 1.3414 - accuracy: 0.3346\n",
      "Epoch 48/50\n",
      "31/31 [==============================] - 0s 4ms/step - loss: 1.3402 - accuracy: 0.3374\n",
      "Epoch 49/50\n",
      "31/31 [==============================] - 0s 4ms/step - loss: 1.3383 - accuracy: 0.3382\n",
      "Epoch 50/50\n",
      "31/31 [==============================] - 0s 4ms/step - loss: 1.3367 - accuracy: 0.3403\n"
     ]
    },
    {
     "data": {
      "text/plain": [
       "<keras.callbacks.History at 0x1cab42c75e0>"
      ]
     },
     "execution_count": 29,
     "metadata": {},
     "output_type": "execute_result"
    }
   ],
   "source": [
    "model.compile(optimizer='adam',\n",
    "              loss='sparse_categorical_crossentropy',\n",
    "              metrics=['accuracy'])\n",
    "model.fit(tr_features, tr_labels, epochs=50, batch_size=1024)"
   ]
  },
  {
   "cell_type": "code",
   "execution_count": 30,
   "metadata": {},
   "outputs": [
    {
     "name": "stdout",
     "output_type": "stream",
     "text": [
      "WARNING:tensorflow:AutoGraph could not transform <function Model.make_test_function.<locals>.test_function at 0x000001CAA3D30040> and will run it as-is.\n",
      "Please report this to the TensorFlow team. When filing the bug, set the verbosity to 10 (on Linux, `export AUTOGRAPH_VERBOSITY=10`) and attach the full output.\n",
      "Cause: module 'gast' has no attribute 'Constant'\n",
      "To silence this warning, decorate the function with @tf.autograph.experimental.do_not_convert\n",
      "WARNING: AutoGraph could not transform <function Model.make_test_function.<locals>.test_function at 0x000001CAA3D30040> and will run it as-is.\n",
      "Please report this to the TensorFlow team. When filing the bug, set the verbosity to 10 (on Linux, `export AUTOGRAPH_VERBOSITY=10`) and attach the full output.\n",
      "Cause: module 'gast' has no attribute 'Constant'\n",
      "To silence this warning, decorate the function with @tf.autograph.experimental.do_not_convert\n",
      "248/248 [==============================] - 0s 2ms/step - loss: 1.3310 - accuracy: 0.3545\n",
      "Loss: 1.3310059309005737\n",
      "Accuracy: 0.35452136397361755\n"
     ]
    }
   ],
   "source": [
    "loss, accuracy = model.evaluate(te_features, te_labels)\n",
    "print(\"Loss:\", loss)\n",
    "print(\"Accuracy:\", accuracy)"
   ]
  }
 ],
 "metadata": {
  "kernelspec": {
   "display_name": "Python 3",
   "language": "python",
   "name": "python3"
  },
  "language_info": {
   "codemirror_mode": {
    "name": "ipython",
    "version": 3
   },
   "file_extension": ".py",
   "mimetype": "text/x-python",
   "name": "python",
   "nbconvert_exporter": "python",
   "pygments_lexer": "ipython3",
   "version": "3.10.9"
  },
  "orig_nbformat": 4
 },
 "nbformat": 4,
 "nbformat_minor": 2
}
