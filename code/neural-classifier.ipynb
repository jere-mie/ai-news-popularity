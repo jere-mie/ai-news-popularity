{
 "cells": [
  {
   "cell_type": "code",
   "execution_count": 1,
   "metadata": {},
   "outputs": [
    {
     "data": {
      "text/plain": [
       "[name: \"/device:CPU:0\"\n",
       " device_type: \"CPU\"\n",
       " memory_limit: 268435456\n",
       " locality {\n",
       " }\n",
       " incarnation: 677411375989656638\n",
       " xla_global_id: -1,\n",
       " name: \"/device:GPU:0\"\n",
       " device_type: \"GPU\"\n",
       " memory_limit: 9883877376\n",
       " locality {\n",
       "   bus_id: 1\n",
       "   links {\n",
       "   }\n",
       " }\n",
       " incarnation: 17684322923760851212\n",
       " physical_device_desc: \"device: 0, name: NVIDIA GeForce RTX 3080 Ti, pci bus id: 0000:01:00.0, compute capability: 8.6\"\n",
       " xla_global_id: 416903419]"
      ]
     },
     "execution_count": 1,
     "metadata": {},
     "output_type": "execute_result"
    }
   ],
   "source": [
    "import numpy as np\n",
    "import pandas as pd\n",
    "\n",
    "from sklearn.preprocessing import MinMaxScaler\n",
    "from sklearn.metrics import mean_squared_error\n",
    "import tensorflow as tf\n",
    "from tensorflow import keras\n",
    "from keras import Sequential\n",
    "from keras.layers import Dense, Dropout, BatchNormalization\n",
    "from tensorflow.python.client import device_lib\n",
    "local_device_protos = device_lib.list_local_devices()\n",
    "device_lib.list_local_devices()"
   ]
  },
  {
   "cell_type": "code",
   "execution_count": 2,
   "metadata": {},
   "outputs": [],
   "source": [
    "tr_features = pd.read_csv('data/train_features.csv')\n",
    "tr_labels = pd.read_csv('data/train_labels.csv')\n",
    "\n",
    "te_features = pd.read_csv('data/test_features.csv')\n",
    "te_labels = pd.read_csv('data/test_labels.csv')"
   ]
  },
  {
   "cell_type": "code",
   "execution_count": 3,
   "metadata": {},
   "outputs": [],
   "source": [
    "columns = ['n_tokens_title', 'n_tokens_content', 'n_unique_tokens',\n",
    "       'n_non_stop_words', 'n_non_stop_unique_tokens', 'num_hrefs',\n",
    "       'num_self_hrefs', 'num_imgs', 'num_videos', 'average_token_length',\n",
    "       'num_keywords', 'data_channel_is_lifestyle',\n",
    "       'data_channel_is_entertainment', 'data_channel_is_bus',\n",
    "       'data_channel_is_socmed', 'data_channel_is_tech',\n",
    "       'data_channel_is_world', 'kw_min_min', 'kw_max_min', 'kw_avg_min',\n",
    "       'kw_min_max', 'kw_max_max', 'kw_avg_max', 'kw_min_avg', 'kw_max_avg',\n",
    "       'kw_avg_avg', 'self_reference_min_shares', 'self_reference_max_shares',\n",
    "       'self_reference_avg_sharess', 'weekday_is_monday', 'weekday_is_tuesday',\n",
    "       'weekday_is_wednesday', 'weekday_is_thursday', 'weekday_is_friday',\n",
    "       'weekday_is_saturday', 'weekday_is_sunday', 'is_weekend', 'LDA_00',\n",
    "       'LDA_01', 'LDA_02', 'LDA_03', 'LDA_04', 'global_subjectivity',\n",
    "       'global_sentiment_polarity', 'global_rate_positive_words',\n",
    "       'global_rate_negative_words', 'rate_positive_words',\n",
    "       'rate_negative_words', 'avg_positive_polarity', 'min_positive_polarity',\n",
    "       'max_positive_polarity', 'avg_negative_polarity',\n",
    "       'min_negative_polarity', 'max_negative_polarity', 'title_subjectivity',\n",
    "       'title_sentiment_polarity', 'abs_title_subjectivity',\n",
    "       'abs_title_sentiment_polarity']\n",
    "scaler = MinMaxScaler()\n",
    "tr_features = pd.DataFrame(scaler.fit_transform(tr_features))\n",
    "te_features = pd.DataFrame(scaler.fit_transform(te_features))"
   ]
  },
  {
   "cell_type": "code",
   "execution_count": 4,
   "metadata": {},
   "outputs": [],
   "source": [
    "model = Sequential([\n",
    "    Dense(58, input_shape=[58]),\n",
    "    Dropout(0.5),\n",
    "    Dense(512, activation='softmax'),\n",
    "    Dropout(0.5),\n",
    "    Dense(512, activation='softmax'),\n",
    "    Dropout(0.5),\n",
    "    Dense(4, activation='softmax')\n",
    "])"
   ]
  },
  {
   "cell_type": "code",
   "execution_count": 5,
   "metadata": {},
   "outputs": [
    {
     "name": "stdout",
     "output_type": "stream",
     "text": [
      "Epoch 1/50\n",
      "WARNING:tensorflow:AutoGraph could not transform <function Model.make_train_function.<locals>.train_function at 0x00000186C31BF370> and will run it as-is.\n",
      "Please report this to the TensorFlow team. When filing the bug, set the verbosity to 10 (on Linux, `export AUTOGRAPH_VERBOSITY=10`) and attach the full output.\n",
      "Cause: module 'gast' has no attribute 'Constant'\n",
      "To silence this warning, decorate the function with @tf.autograph.experimental.do_not_convert\n",
      "WARNING: AutoGraph could not transform <function Model.make_train_function.<locals>.train_function at 0x00000186C31BF370> and will run it as-is.\n",
      "Please report this to the TensorFlow team. When filing the bug, set the verbosity to 10 (on Linux, `export AUTOGRAPH_VERBOSITY=10`) and attach the full output.\n",
      "Cause: module 'gast' has no attribute 'Constant'\n",
      "To silence this warning, decorate the function with @tf.autograph.experimental.do_not_convert\n",
      "31/31 [==============================] - 1s 3ms/step - loss: 1.4504 - accuracy: 0.2883\n",
      "Epoch 2/50\n",
      "31/31 [==============================] - 0s 3ms/step - loss: 1.3697 - accuracy: 0.3152\n",
      "Epoch 3/50\n",
      "31/31 [==============================] - 0s 3ms/step - loss: 1.3546 - accuracy: 0.3267\n",
      "Epoch 4/50\n",
      "31/31 [==============================] - 0s 3ms/step - loss: 1.3494 - accuracy: 0.3278\n",
      "Epoch 5/50\n",
      "31/31 [==============================] - 0s 3ms/step - loss: 1.3433 - accuracy: 0.3355\n",
      "Epoch 6/50\n",
      "31/31 [==============================] - 0s 3ms/step - loss: 1.3385 - accuracy: 0.3385\n",
      "Epoch 7/50\n",
      "31/31 [==============================] - 0s 3ms/step - loss: 1.3345 - accuracy: 0.3387\n",
      "Epoch 8/50\n",
      "31/31 [==============================] - 0s 3ms/step - loss: 1.3327 - accuracy: 0.3464\n",
      "Epoch 9/50\n",
      "31/31 [==============================] - 0s 3ms/step - loss: 1.3299 - accuracy: 0.3463\n",
      "Epoch 10/50\n",
      "31/31 [==============================] - 0s 3ms/step - loss: 1.3287 - accuracy: 0.3500\n",
      "Epoch 11/50\n",
      "31/31 [==============================] - 0s 3ms/step - loss: 1.3270 - accuracy: 0.3483\n",
      "Epoch 12/50\n",
      "31/31 [==============================] - 0s 4ms/step - loss: 1.3271 - accuracy: 0.3499\n",
      "Epoch 13/50\n",
      "31/31 [==============================] - 0s 3ms/step - loss: 1.3236 - accuracy: 0.3554\n",
      "Epoch 14/50\n",
      "31/31 [==============================] - 0s 4ms/step - loss: 1.3239 - accuracy: 0.3533\n",
      "Epoch 15/50\n",
      "31/31 [==============================] - 0s 3ms/step - loss: 1.3228 - accuracy: 0.3554\n",
      "Epoch 16/50\n",
      "31/31 [==============================] - 0s 4ms/step - loss: 1.3226 - accuracy: 0.3547\n",
      "Epoch 17/50\n",
      "31/31 [==============================] - 0s 4ms/step - loss: 1.3204 - accuracy: 0.3561\n",
      "Epoch 18/50\n",
      "31/31 [==============================] - 0s 3ms/step - loss: 1.3198 - accuracy: 0.3567\n",
      "Epoch 19/50\n",
      "31/31 [==============================] - 0s 3ms/step - loss: 1.3186 - accuracy: 0.3550\n",
      "Epoch 20/50\n",
      "31/31 [==============================] - 0s 3ms/step - loss: 1.3205 - accuracy: 0.3589\n",
      "Epoch 21/50\n",
      "31/31 [==============================] - 0s 3ms/step - loss: 1.3190 - accuracy: 0.3576\n",
      "Epoch 22/50\n",
      "31/31 [==============================] - 0s 3ms/step - loss: 1.3186 - accuracy: 0.3588\n",
      "Epoch 23/50\n",
      "31/31 [==============================] - 0s 3ms/step - loss: 1.3168 - accuracy: 0.3639\n",
      "Epoch 24/50\n",
      "31/31 [==============================] - 0s 3ms/step - loss: 1.3181 - accuracy: 0.3587\n",
      "Epoch 25/50\n",
      "31/31 [==============================] - 0s 3ms/step - loss: 1.3187 - accuracy: 0.3591\n",
      "Epoch 26/50\n",
      "31/31 [==============================] - 0s 3ms/step - loss: 1.3167 - accuracy: 0.3617\n",
      "Epoch 27/50\n",
      "31/31 [==============================] - 0s 4ms/step - loss: 1.3166 - accuracy: 0.3605\n",
      "Epoch 28/50\n",
      "31/31 [==============================] - 0s 4ms/step - loss: 1.3153 - accuracy: 0.3622\n",
      "Epoch 29/50\n",
      "31/31 [==============================] - 0s 4ms/step - loss: 1.3163 - accuracy: 0.3603\n",
      "Epoch 30/50\n",
      "31/31 [==============================] - 0s 4ms/step - loss: 1.3170 - accuracy: 0.3594\n",
      "Epoch 31/50\n",
      "31/31 [==============================] - 0s 4ms/step - loss: 1.3155 - accuracy: 0.3633\n",
      "Epoch 32/50\n",
      "31/31 [==============================] - 0s 4ms/step - loss: 1.3148 - accuracy: 0.3618\n",
      "Epoch 33/50\n",
      "31/31 [==============================] - 0s 4ms/step - loss: 1.3162 - accuracy: 0.3626\n",
      "Epoch 34/50\n",
      "31/31 [==============================] - 0s 4ms/step - loss: 1.3158 - accuracy: 0.3629\n",
      "Epoch 35/50\n",
      "31/31 [==============================] - 0s 4ms/step - loss: 1.3148 - accuracy: 0.3639\n",
      "Epoch 36/50\n",
      "31/31 [==============================] - 0s 4ms/step - loss: 1.3136 - accuracy: 0.3633\n",
      "Epoch 37/50\n",
      "31/31 [==============================] - 0s 4ms/step - loss: 1.3140 - accuracy: 0.3625\n",
      "Epoch 38/50\n",
      "31/31 [==============================] - 0s 3ms/step - loss: 1.3159 - accuracy: 0.3619\n",
      "Epoch 39/50\n",
      "31/31 [==============================] - 0s 3ms/step - loss: 1.3145 - accuracy: 0.3662\n",
      "Epoch 40/50\n",
      "31/31 [==============================] - 0s 4ms/step - loss: 1.3149 - accuracy: 0.3640\n",
      "Epoch 41/50\n",
      "31/31 [==============================] - 0s 3ms/step - loss: 1.3140 - accuracy: 0.3634\n",
      "Epoch 42/50\n",
      "31/31 [==============================] - 0s 3ms/step - loss: 1.3135 - accuracy: 0.3643\n",
      "Epoch 43/50\n",
      "31/31 [==============================] - 0s 3ms/step - loss: 1.3147 - accuracy: 0.3633\n",
      "Epoch 44/50\n",
      "31/31 [==============================] - 0s 3ms/step - loss: 1.3138 - accuracy: 0.3633\n",
      "Epoch 45/50\n",
      "31/31 [==============================] - 0s 3ms/step - loss: 1.3148 - accuracy: 0.3643\n",
      "Epoch 46/50\n",
      "31/31 [==============================] - 0s 3ms/step - loss: 1.3135 - accuracy: 0.3630\n",
      "Epoch 47/50\n",
      "31/31 [==============================] - 0s 4ms/step - loss: 1.3144 - accuracy: 0.3632\n",
      "Epoch 48/50\n",
      "31/31 [==============================] - 0s 4ms/step - loss: 1.3128 - accuracy: 0.3642\n",
      "Epoch 49/50\n",
      "31/31 [==============================] - 0s 4ms/step - loss: 1.3147 - accuracy: 0.3651\n",
      "Epoch 50/50\n",
      "31/31 [==============================] - 0s 4ms/step - loss: 1.3128 - accuracy: 0.3684\n"
     ]
    },
    {
     "data": {
      "text/plain": [
       "<keras.callbacks.History at 0x186c45a8df0>"
      ]
     },
     "execution_count": 5,
     "metadata": {},
     "output_type": "execute_result"
    }
   ],
   "source": [
    "model.compile(optimizer='adam',\n",
    "              loss='sparse_categorical_crossentropy',\n",
    "              metrics=['accuracy'])\n",
    "model.fit(tr_features, tr_labels, epochs=50, batch_size=1024)"
   ]
  },
  {
   "cell_type": "code",
   "execution_count": 6,
   "metadata": {},
   "outputs": [
    {
     "name": "stdout",
     "output_type": "stream",
     "text": [
      "WARNING:tensorflow:AutoGraph could not transform <function Model.make_test_function.<locals>.test_function at 0x0000018711511F30> and will run it as-is.\n",
      "Please report this to the TensorFlow team. When filing the bug, set the verbosity to 10 (on Linux, `export AUTOGRAPH_VERBOSITY=10`) and attach the full output.\n",
      "Cause: module 'gast' has no attribute 'Constant'\n",
      "To silence this warning, decorate the function with @tf.autograph.experimental.do_not_convert\n",
      "WARNING: AutoGraph could not transform <function Model.make_test_function.<locals>.test_function at 0x0000018711511F30> and will run it as-is.\n",
      "Please report this to the TensorFlow team. When filing the bug, set the verbosity to 10 (on Linux, `export AUTOGRAPH_VERBOSITY=10`) and attach the full output.\n",
      "Cause: module 'gast' has no attribute 'Constant'\n",
      "To silence this warning, decorate the function with @tf.autograph.experimental.do_not_convert\n",
      "248/248 [==============================] - 0s 2ms/step - loss: 1.9416 - accuracy: 0.2437\n",
      "Loss: 1.9416108131408691\n",
      "Accuracy: 0.2436625063419342\n"
     ]
    }
   ],
   "source": [
    "loss, accuracy = model.evaluate(te_features, te_labels)\n",
    "print(\"Loss:\", loss)\n",
    "print(\"Accuracy:\", accuracy)"
   ]
  }
 ],
 "metadata": {
  "kernelspec": {
   "display_name": "Python 3",
   "language": "python",
   "name": "python3"
  },
  "language_info": {
   "codemirror_mode": {
    "name": "ipython",
    "version": 3
   },
   "file_extension": ".py",
   "mimetype": "text/x-python",
   "name": "python",
   "nbconvert_exporter": "python",
   "pygments_lexer": "ipython3",
   "version": "3.10.9"
  },
  "orig_nbformat": 4
 },
 "nbformat": 4,
 "nbformat_minor": 2
}
