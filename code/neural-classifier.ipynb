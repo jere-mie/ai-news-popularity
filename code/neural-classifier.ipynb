{
 "cells": [
  {
   "cell_type": "code",
   "execution_count": 25,
   "metadata": {},
   "outputs": [
    {
     "data": {
      "text/plain": [
       "[name: \"/device:CPU:0\"\n",
       " device_type: \"CPU\"\n",
       " memory_limit: 268435456\n",
       " locality {\n",
       " }\n",
       " incarnation: 18406454171655976315\n",
       " xla_global_id: -1,\n",
       " name: \"/device:GPU:0\"\n",
       " device_type: \"GPU\"\n",
       " memory_limit: 9883877376\n",
       " locality {\n",
       "   bus_id: 1\n",
       "   links {\n",
       "   }\n",
       " }\n",
       " incarnation: 12279077509464973173\n",
       " physical_device_desc: \"device: 0, name: NVIDIA GeForce RTX 3080 Ti, pci bus id: 0000:01:00.0, compute capability: 8.6\"\n",
       " xla_global_id: 416903419]"
      ]
     },
     "execution_count": 25,
     "metadata": {},
     "output_type": "execute_result"
    }
   ],
   "source": [
    "import numpy as np\n",
    "import pandas as pd\n",
    "\n",
    "from sklearn.preprocessing import MinMaxScaler\n",
    "from sklearn.metrics import mean_squared_error, classification_report\n",
    "import tensorflow as tf\n",
    "from tensorflow import keras\n",
    "from keras import Sequential\n",
    "from keras.layers import Dense, Dropout, BatchNormalization\n",
    "from tensorflow.python.client import device_lib\n",
    "local_device_protos = device_lib.list_local_devices()\n",
    "device_lib.list_local_devices()"
   ]
  },
  {
   "cell_type": "code",
   "execution_count": 26,
   "metadata": {},
   "outputs": [],
   "source": [
    "tr_features = pd.read_csv('data/train_features.csv')\n",
    "tr_labels = pd.read_csv('data/train_labels.csv')\n",
    "\n",
    "te_features = pd.read_csv('data/test_features.csv')\n",
    "te_labels = pd.read_csv('data/test_labels.csv')"
   ]
  },
  {
   "cell_type": "code",
   "execution_count": 27,
   "metadata": {},
   "outputs": [],
   "source": [
    "columns = ['n_tokens_title', 'n_tokens_content', 'n_unique_tokens',\n",
    "       'n_non_stop_words', 'n_non_stop_unique_tokens', 'num_hrefs',\n",
    "       'num_self_hrefs', 'num_imgs', 'num_videos', 'average_token_length',\n",
    "       'num_keywords', 'data_channel_is_lifestyle',\n",
    "       'data_channel_is_entertainment', 'data_channel_is_bus',\n",
    "       'data_channel_is_socmed', 'data_channel_is_tech',\n",
    "       'data_channel_is_world', 'kw_min_min', 'kw_max_min', 'kw_avg_min',\n",
    "       'kw_min_max', 'kw_max_max', 'kw_avg_max', 'kw_min_avg', 'kw_max_avg',\n",
    "       'kw_avg_avg', 'self_reference_min_shares', 'self_reference_max_shares',\n",
    "       'self_reference_avg_sharess', 'weekday_is_monday', 'weekday_is_tuesday',\n",
    "       'weekday_is_wednesday', 'weekday_is_thursday', 'weekday_is_friday',\n",
    "       'weekday_is_saturday', 'weekday_is_sunday', 'is_weekend', 'LDA_00',\n",
    "       'LDA_01', 'LDA_02', 'LDA_03', 'LDA_04', 'global_subjectivity',\n",
    "       'global_sentiment_polarity', 'global_rate_positive_words',\n",
    "       'global_rate_negative_words', 'rate_positive_words',\n",
    "       'rate_negative_words', 'avg_positive_polarity', 'min_positive_polarity',\n",
    "       'max_positive_polarity', 'avg_negative_polarity',\n",
    "       'min_negative_polarity', 'max_negative_polarity', 'title_subjectivity',\n",
    "       'title_sentiment_polarity', 'abs_title_subjectivity',\n",
    "       'abs_title_sentiment_polarity']\n",
    "scaler = MinMaxScaler()\n",
    "tr_features = pd.DataFrame(scaler.fit_transform(tr_features))\n",
    "te_features = pd.DataFrame(scaler.fit_transform(te_features))"
   ]
  },
  {
   "cell_type": "code",
   "execution_count": 28,
   "metadata": {},
   "outputs": [],
   "source": [
    "# 262,144 hidden layer neurons is the sweet spot... how I get there doesn't seem to matter\n",
    "model = Sequential([\n",
    "    Dense(58),\n",
    "    Dropout(0.5),\n",
    "    Dense(400, activation='softmax'),\n",
    "    Dropout(0.5),\n",
    "    Dense(400, activation='softmax'),\n",
    "    Dropout(0.5),\n",
    "    Dense(4, activation='softmax')\n",
    "])"
   ]
  },
  {
   "cell_type": "code",
   "execution_count": 29,
   "metadata": {},
   "outputs": [
    {
     "name": "stdout",
     "output_type": "stream",
     "text": [
      "Epoch 1/50\n",
      "WARNING:tensorflow:AutoGraph could not transform <function Model.make_train_function.<locals>.train_function at 0x0000025EB3FB4C10> and will run it as-is.\n",
      "Please report this to the TensorFlow team. When filing the bug, set the verbosity to 10 (on Linux, `export AUTOGRAPH_VERBOSITY=10`) and attach the full output.\n",
      "Cause: module 'gast' has no attribute 'Constant'\n",
      "To silence this warning, decorate the function with @tf.autograph.experimental.do_not_convert\n",
      "WARNING: AutoGraph could not transform <function Model.make_train_function.<locals>.train_function at 0x0000025EB3FB4C10> and will run it as-is.\n",
      "Please report this to the TensorFlow team. When filing the bug, set the verbosity to 10 (on Linux, `export AUTOGRAPH_VERBOSITY=10`) and attach the full output.\n",
      "Cause: module 'gast' has no attribute 'Constant'\n",
      "To silence this warning, decorate the function with @tf.autograph.experimental.do_not_convert\n",
      "31/31 [==============================] - 1s 9ms/step - loss: 1.3862 - accuracy: 0.2507\n",
      "Epoch 2/50\n",
      "31/31 [==============================] - 0s 7ms/step - loss: 1.3861 - accuracy: 0.2540\n",
      "Epoch 3/50\n",
      "31/31 [==============================] - 0s 4ms/step - loss: 1.3862 - accuracy: 0.2546\n",
      "Epoch 4/50\n",
      "31/31 [==============================] - 0s 4ms/step - loss: 1.3862 - accuracy: 0.2554\n",
      "Epoch 5/50\n",
      "31/31 [==============================] - 0s 4ms/step - loss: 1.3862 - accuracy: 0.2556\n",
      "Epoch 6/50\n",
      "31/31 [==============================] - 0s 4ms/step - loss: 1.3861 - accuracy: 0.2543\n",
      "Epoch 7/50\n",
      "31/31 [==============================] - 0s 4ms/step - loss: 1.3862 - accuracy: 0.2554\n",
      "Epoch 8/50\n",
      "31/31 [==============================] - 0s 4ms/step - loss: 1.3861 - accuracy: 0.2555\n",
      "Epoch 9/50\n",
      "31/31 [==============================] - 0s 4ms/step - loss: 1.3861 - accuracy: 0.2540\n",
      "Epoch 10/50\n",
      "31/31 [==============================] - 0s 4ms/step - loss: 1.3861 - accuracy: 0.2543\n",
      "Epoch 11/50\n",
      "31/31 [==============================] - 0s 4ms/step - loss: 1.3861 - accuracy: 0.2554\n",
      "Epoch 12/50\n",
      "31/31 [==============================] - 0s 3ms/step - loss: 1.3861 - accuracy: 0.2575\n",
      "Epoch 13/50\n",
      "31/31 [==============================] - 0s 4ms/step - loss: 1.3857 - accuracy: 0.2568\n",
      "Epoch 14/50\n",
      "31/31 [==============================] - 0s 4ms/step - loss: 1.3847 - accuracy: 0.2717\n",
      "Epoch 15/50\n",
      "31/31 [==============================] - 0s 4ms/step - loss: 1.3829 - accuracy: 0.2767\n",
      "Epoch 16/50\n",
      "31/31 [==============================] - 0s 4ms/step - loss: 1.3804 - accuracy: 0.2913\n",
      "Epoch 17/50\n",
      "31/31 [==============================] - 0s 3ms/step - loss: 1.3776 - accuracy: 0.2960\n",
      "Epoch 18/50\n",
      "31/31 [==============================] - 0s 4ms/step - loss: 1.3745 - accuracy: 0.2940\n",
      "Epoch 19/50\n",
      "31/31 [==============================] - 0s 4ms/step - loss: 1.3715 - accuracy: 0.2928\n",
      "Epoch 20/50\n",
      "31/31 [==============================] - 0s 4ms/step - loss: 1.3683 - accuracy: 0.2965\n",
      "Epoch 21/50\n",
      "31/31 [==============================] - 0s 4ms/step - loss: 1.3666 - accuracy: 0.2995\n",
      "Epoch 22/50\n",
      "31/31 [==============================] - 0s 4ms/step - loss: 1.3638 - accuracy: 0.2997\n",
      "Epoch 23/50\n",
      "31/31 [==============================] - 0s 4ms/step - loss: 1.3633 - accuracy: 0.3003\n",
      "Epoch 24/50\n",
      "31/31 [==============================] - 0s 3ms/step - loss: 1.3625 - accuracy: 0.2977\n",
      "Epoch 25/50\n",
      "31/31 [==============================] - 0s 4ms/step - loss: 1.3622 - accuracy: 0.2994\n",
      "Epoch 26/50\n",
      "31/31 [==============================] - 0s 4ms/step - loss: 1.3608 - accuracy: 0.2967\n",
      "Epoch 27/50\n",
      "31/31 [==============================] - 0s 4ms/step - loss: 1.3608 - accuracy: 0.2964\n",
      "Epoch 28/50\n",
      "31/31 [==============================] - 0s 4ms/step - loss: 1.3591 - accuracy: 0.3023\n",
      "Epoch 29/50\n",
      "31/31 [==============================] - 0s 4ms/step - loss: 1.3575 - accuracy: 0.3036\n",
      "Epoch 30/50\n",
      "31/31 [==============================] - 0s 4ms/step - loss: 1.3571 - accuracy: 0.3056\n",
      "Epoch 31/50\n",
      "31/31 [==============================] - 0s 4ms/step - loss: 1.3572 - accuracy: 0.3082\n",
      "Epoch 32/50\n",
      "31/31 [==============================] - 0s 4ms/step - loss: 1.3555 - accuracy: 0.3100\n",
      "Epoch 33/50\n",
      "31/31 [==============================] - 0s 4ms/step - loss: 1.3548 - accuracy: 0.3076\n",
      "Epoch 34/50\n",
      "31/31 [==============================] - 0s 4ms/step - loss: 1.3532 - accuracy: 0.3097\n",
      "Epoch 35/50\n",
      "31/31 [==============================] - 0s 4ms/step - loss: 1.3512 - accuracy: 0.3190\n",
      "Epoch 36/50\n",
      "31/31 [==============================] - 0s 4ms/step - loss: 1.3519 - accuracy: 0.3184\n",
      "Epoch 37/50\n",
      "31/31 [==============================] - 0s 4ms/step - loss: 1.3491 - accuracy: 0.3225\n",
      "Epoch 38/50\n",
      "31/31 [==============================] - 0s 3ms/step - loss: 1.3458 - accuracy: 0.3320\n",
      "Epoch 39/50\n",
      "31/31 [==============================] - 0s 3ms/step - loss: 1.3465 - accuracy: 0.3248\n",
      "Epoch 40/50\n",
      "31/31 [==============================] - 0s 3ms/step - loss: 1.3449 - accuracy: 0.3251\n",
      "Epoch 41/50\n",
      "31/31 [==============================] - 0s 4ms/step - loss: 1.3444 - accuracy: 0.3294\n",
      "Epoch 42/50\n",
      "31/31 [==============================] - 0s 4ms/step - loss: 1.3423 - accuracy: 0.3302\n",
      "Epoch 43/50\n",
      "31/31 [==============================] - 0s 4ms/step - loss: 1.3417 - accuracy: 0.3317\n",
      "Epoch 44/50\n",
      "31/31 [==============================] - 0s 4ms/step - loss: 1.3399 - accuracy: 0.3357\n",
      "Epoch 45/50\n",
      "31/31 [==============================] - 0s 4ms/step - loss: 1.3402 - accuracy: 0.3329\n",
      "Epoch 46/50\n",
      "31/31 [==============================] - 0s 4ms/step - loss: 1.3380 - accuracy: 0.3395\n",
      "Epoch 47/50\n",
      "31/31 [==============================] - 0s 3ms/step - loss: 1.3368 - accuracy: 0.3398\n",
      "Epoch 48/50\n",
      "31/31 [==============================] - 0s 4ms/step - loss: 1.3364 - accuracy: 0.3399\n",
      "Epoch 49/50\n",
      "31/31 [==============================] - 0s 4ms/step - loss: 1.3343 - accuracy: 0.3409\n",
      "Epoch 50/50\n",
      "31/31 [==============================] - 0s 4ms/step - loss: 1.3336 - accuracy: 0.3435\n"
     ]
    },
    {
     "data": {
      "text/plain": [
       "<keras.callbacks.History at 0x25eb40cacb0>"
      ]
     },
     "execution_count": 29,
     "metadata": {},
     "output_type": "execute_result"
    }
   ],
   "source": [
    "model.compile(optimizer='adam',\n",
    "              loss='sparse_categorical_crossentropy',\n",
    "              metrics=['accuracy'])\n",
    "model.fit(tr_features, tr_labels, epochs=50, batch_size=1024)"
   ]
  },
  {
   "cell_type": "code",
   "execution_count": 30,
   "metadata": {},
   "outputs": [
    {
     "name": "stdout",
     "output_type": "stream",
     "text": [
      "WARNING:tensorflow:AutoGraph could not transform <function Model.make_test_function.<locals>.test_function at 0x0000025EB3FB5480> and will run it as-is.\n",
      "Please report this to the TensorFlow team. When filing the bug, set the verbosity to 10 (on Linux, `export AUTOGRAPH_VERBOSITY=10`) and attach the full output.\n",
      "Cause: module 'gast' has no attribute 'Constant'\n",
      "To silence this warning, decorate the function with @tf.autograph.experimental.do_not_convert\n",
      "WARNING: AutoGraph could not transform <function Model.make_test_function.<locals>.test_function at 0x0000025EB3FB5480> and will run it as-is.\n",
      "Please report this to the TensorFlow team. When filing the bug, set the verbosity to 10 (on Linux, `export AUTOGRAPH_VERBOSITY=10`) and attach the full output.\n",
      "Cause: module 'gast' has no attribute 'Constant'\n",
      "To silence this warning, decorate the function with @tf.autograph.experimental.do_not_convert\n",
      "248/248 [==============================] - 0s 2ms/step - loss: 1.3332 - accuracy: 0.3560\n",
      "Loss: 1.3331708908081055\n",
      "Accuracy: 0.3560348153114319\n"
     ]
    }
   ],
   "source": [
    "loss, accuracy = model.evaluate(te_features, te_labels)\n",
    "print(\"Loss:\", loss)\n",
    "print(\"Accuracy:\", accuracy)"
   ]
  }
 ],
 "metadata": {
  "kernelspec": {
   "display_name": "Python 3",
   "language": "python",
   "name": "python3"
  },
  "language_info": {
   "codemirror_mode": {
    "name": "ipython",
    "version": 3
   },
   "file_extension": ".py",
   "mimetype": "text/x-python",
   "name": "python",
   "nbconvert_exporter": "python",
   "pygments_lexer": "ipython3",
   "version": "3.10.9"
  },
  "orig_nbformat": 4
 },
 "nbformat": 4,
 "nbformat_minor": 2
}
