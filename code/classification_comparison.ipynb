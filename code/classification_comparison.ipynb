{
 "cells": [
  {
   "cell_type": "code",
   "execution_count": 37,
   "metadata": {},
   "outputs": [
    {
     "data": {
      "text/plain": [
       "[name: \"/device:CPU:0\"\n",
       " device_type: \"CPU\"\n",
       " memory_limit: 268435456\n",
       " locality {\n",
       " }\n",
       " incarnation: 17349674148537413193\n",
       " xla_global_id: -1,\n",
       " name: \"/device:GPU:0\"\n",
       " device_type: \"GPU\"\n",
       " memory_limit: 9883877376\n",
       " locality {\n",
       "   bus_id: 1\n",
       "   links {\n",
       "   }\n",
       " }\n",
       " incarnation: 6053309463988546351\n",
       " physical_device_desc: \"device: 0, name: NVIDIA GeForce RTX 3080 Ti, pci bus id: 0000:01:00.0, compute capability: 8.6\"\n",
       " xla_global_id: 416903419]"
      ]
     },
     "execution_count": 37,
     "metadata": {},
     "output_type": "execute_result"
    }
   ],
   "source": [
    "import pandas as pd\n",
    "from sklearn.tree import DecisionTreeClassifier\n",
    "from sklearn.neighbors import KNeighborsClassifier\n",
    "from sklearn.ensemble import RandomForestClassifier, GradientBoostingClassifier, HistGradientBoostingClassifier\n",
    "from sklearn.model_selection import cross_val_score\n",
    "from sklearn.metrics import accuracy_score, precision_score, recall_score, f1_score\n",
    "from sklearn.preprocessing import MinMaxScaler\n",
    "import tensorflow as tf\n",
    "from tensorflow import keras\n",
    "from keras import Sequential\n",
    "from keras.layers import Dense, Dropout, BatchNormalization, Flatten\n",
    "from tensorflow.python.client import device_lib\n",
    "import warnings\n",
    "warnings.filterwarnings('ignore')\n",
    "local_device_protos = device_lib.list_local_devices()\n",
    "device_lib.list_local_devices()"
   ]
  },
  {
   "cell_type": "code",
   "execution_count": 38,
   "metadata": {},
   "outputs": [],
   "source": [
    "tr_features = pd.read_csv('data/train_features.csv')\n",
    "tr_labels = pd.read_csv('data/train_labels.csv')\n",
    "\n",
    "te_features = pd.read_csv('data/test_features.csv')\n",
    "te_labels = pd.read_csv('data/test_labels.csv')"
   ]
  },
  {
   "attachments": {},
   "cell_type": "markdown",
   "metadata": {},
   "source": [
    "# DECISION TREE"
   ]
  },
  {
   "cell_type": "code",
   "execution_count": 39,
   "metadata": {},
   "outputs": [
    {
     "name": "stdout",
     "output_type": "stream",
     "text": [
      "[0.36528457 0.37364023 0.372379   0.36418099 0.35708655]\n",
      "MAX DEPTH: 50 / MAX LEAF NODES: 50 / A: 0.38289822 / P: 0.36930244 / R: 0.38289822 / F1: 0.35612188\n"
     ]
    }
   ],
   "source": [
    "dt0 = DecisionTreeClassifier(criterion='entropy', max_depth=50, max_features=None, max_leaf_nodes=50, min_samples_leaf=1, min_samples_split=1, splitter='best')\n",
    "dt0scores = cross_val_score(dt0, tr_features, tr_labels.values.ravel(), cv=5, n_jobs=-1)\n",
    "print(dt0scores)\n",
    "dt0.fit(tr_features, tr_labels.values.ravel())\n",
    "\n",
    "for mdl in [dt0]:\n",
    "    y_pred = mdl.predict(te_features)\n",
    "    accuracy = round(accuracy_score(te_labels, y_pred), 8)\n",
    "    precision = round(precision_score(te_labels, y_pred, average='weighted'), 8)\n",
    "    recall = round(recall_score(te_labels, y_pred, average='weighted'), 8)\n",
    "    f1 = round(f1_score(te_labels, y_pred, average='weighted'), 8)\n",
    "    print(f'MAX DEPTH: {mdl.max_depth} / MAX LEAF NODES: {mdl.max_leaf_nodes} / A: {accuracy} / P: {precision} / R: {recall} / F1: {f1}')"
   ]
  },
  {
   "attachments": {},
   "cell_type": "markdown",
   "metadata": {},
   "source": [
    "# KNN"
   ]
  },
  {
   "cell_type": "code",
   "execution_count": 40,
   "metadata": {},
   "outputs": [
    {
     "name": "stdout",
     "output_type": "stream",
     "text": [
      "[0.29118714 0.27778654 0.28519628 0.28393505 0.28330443]\n",
      "LEAF SIZE: 10 / NEAREST NEIGHBOURS: 1 / A: 0.285408 / P: 0.28590231 / R: 0.285408 / F1: 0.28561743\n"
     ]
    }
   ],
   "source": [
    "knn0 = KNeighborsClassifier(algorithm='auto', leaf_size=10, n_neighbors=1, p=1, weights='uniform')\n",
    "knn0scores = cross_val_score(knn0, tr_features, tr_labels.values.ravel(), cv=5, n_jobs=-1)\n",
    "print(knn0scores)\n",
    "knn0.fit(tr_features, tr_labels.values.ravel())\n",
    "\n",
    "for mdl in [knn0]:\n",
    "    y_pred = mdl.predict(te_features)\n",
    "    accuracy = round(accuracy_score(te_labels, y_pred), 8)\n",
    "    precision = round(precision_score(te_labels, y_pred, average='weighted'), 8)\n",
    "    recall = round(recall_score(te_labels, y_pred, average='weighted'), 8)\n",
    "    f1 = round(f1_score(te_labels, y_pred, average='weighted'), 8)\n",
    "    print(f'LEAF SIZE: {mdl.leaf_size} / NEAREST NEIGHBOURS: {mdl.n_neighbors} / A: {accuracy} / P: {precision} / R: {recall} / F1: {f1}')"
   ]
  },
  {
   "attachments": {},
   "cell_type": "markdown",
   "metadata": {},
   "source": [
    "# RANDOM FOREST"
   ]
  },
  {
   "cell_type": "code",
   "execution_count": 41,
   "metadata": {},
   "outputs": [
    {
     "name": "stdout",
     "output_type": "stream",
     "text": [
      "[0.38231121 0.40059909 0.38420306 0.39350465 0.39019391]\n",
      "A: 0.39916761 / P: 0.38972838 / R: 0.39916761 / F1: 0.38524394\n"
     ]
    }
   ],
   "source": [
    "rf0 = RandomForestClassifier(bootstrap=False, max_depth=100, max_features='sqrt', max_leaf_nodes=500, max_samples=None, min_samples_leaf=3, n_estimators=50, oob_score=False, warm_start=False)\n",
    "rf0scores = cross_val_score(rf0, tr_features, tr_labels.values.ravel(), cv=5, n_jobs=-1)\n",
    "print(rf0scores)\n",
    "rf0.fit(tr_features, tr_labels.values.ravel())\n",
    "\n",
    "for mdl in [rf0]:\n",
    "    y_pred = mdl.predict(te_features)\n",
    "    accuracy = round(accuracy_score(te_labels, y_pred), 8)\n",
    "    precision = round(precision_score(te_labels, y_pred, average='weighted'), 8)\n",
    "    recall = round(recall_score(te_labels, y_pred, average='weighted'), 8)\n",
    "    f1 = round(f1_score(te_labels, y_pred, average='weighted'), 8)\n",
    "    print(f'A: {accuracy} / P: {precision} / R: {recall} / F1: {f1}')"
   ]
  },
  {
   "attachments": {},
   "cell_type": "markdown",
   "metadata": {},
   "source": [
    "# GRADIENT BOOST"
   ]
  },
  {
   "cell_type": "code",
   "execution_count": 42,
   "metadata": {},
   "outputs": [
    {
     "name": "stdout",
     "output_type": "stream",
     "text": [
      "[0.38830207 0.39350465 0.3857796  0.3971307  0.39381996]\n",
      "MAX DEPTH: 100 / MAX LEAF NODES: 16 / A: 0.39462732 / P: 0.38383943 / R: 0.39462732 / F1: 0.3822473\n"
     ]
    }
   ],
   "source": [
    "gb0 = HistGradientBoostingClassifier(l2_regularization=0, learning_rate=0.1, max_depth=100, max_iter=100, max_leaf_nodes=16, min_samples_leaf=50)\n",
    "gb0scores = cross_val_score(gb0, tr_features, tr_labels.values.ravel(), cv=5, n_jobs=-1)\n",
    "print(gb0scores)\n",
    "gb0.fit(tr_features, tr_labels.values.ravel())\n",
    "\n",
    "for mdl in [gb0]:\n",
    "    y_pred = mdl.predict(te_features)\n",
    "    accuracy = round(accuracy_score(te_labels, y_pred), 8)\n",
    "    precision = round(precision_score(te_labels, y_pred, average='weighted'), 8)\n",
    "    recall = round(recall_score(te_labels, y_pred, average='weighted'), 8)\n",
    "    f1 = round(f1_score(te_labels, y_pred, average='weighted'), 8)\n",
    "    print(f'MAX DEPTH: {mdl.max_depth} / MAX LEAF NODES: {mdl.max_leaf_nodes} / A: {accuracy} / P: {precision} / R: {recall} / F1: {f1}')"
   ]
  },
  {
   "attachments": {},
   "cell_type": "markdown",
   "metadata": {},
   "source": [
    "# BONUS: NEURAL NETWORK"
   ]
  },
  {
   "cell_type": "code",
   "execution_count": 43,
   "metadata": {},
   "outputs": [],
   "source": [
    "scaler = MinMaxScaler()\n",
    "tr_features = pd.DataFrame(scaler.fit_transform(tr_features))\n",
    "te_features = pd.DataFrame(scaler.fit_transform(te_features))\n",
    "\n",
    "model = Sequential([\n",
    "    Dense(58),\n",
    "    Dropout(0.5),\n",
    "    Dense(64, activation='softmax'),\n",
    "    Dropout(0.5),\n",
    "    Dense(64, activation='softmax'),\n",
    "    Dropout(0.5),\n",
    "    Dense(64, activation='softmax'),\n",
    "    Dropout(0.5),\n",
    "    Dense(4, activation='softmax')\n",
    "])"
   ]
  },
  {
   "cell_type": "code",
   "execution_count": 44,
   "metadata": {},
   "outputs": [
    {
     "name": "stdout",
     "output_type": "stream",
     "text": [
      "Epoch 1/50\n",
      "WARNING:tensorflow:AutoGraph could not transform <function Model.make_train_function.<locals>.train_function at 0x000001DAB579B130> and will run it as-is.\n",
      "Please report this to the TensorFlow team. When filing the bug, set the verbosity to 10 (on Linux, `export AUTOGRAPH_VERBOSITY=10`) and attach the full output.\n",
      "Cause: module 'gast' has no attribute 'Constant'\n",
      "To silence this warning, decorate the function with @tf.autograph.experimental.do_not_convert\n",
      "WARNING: AutoGraph could not transform <function Model.make_train_function.<locals>.train_function at 0x000001DAB579B130> and will run it as-is.\n",
      "Please report this to the TensorFlow team. When filing the bug, set the verbosity to 10 (on Linux, `export AUTOGRAPH_VERBOSITY=10`) and attach the full output.\n",
      "Cause: module 'gast' has no attribute 'Constant'\n",
      "To silence this warning, decorate the function with @tf.autograph.experimental.do_not_convert\n",
      "31/31 [==============================] - 1s 10ms/step - loss: 1.3862 - accuracy: 0.2547\n",
      "Epoch 2/50\n",
      "31/31 [==============================] - 0s 4ms/step - loss: 1.3864 - accuracy: 0.2524\n",
      "Epoch 3/50\n",
      "31/31 [==============================] - 0s 5ms/step - loss: 1.3861 - accuracy: 0.2552\n",
      "Epoch 4/50\n",
      "31/31 [==============================] - 0s 4ms/step - loss: 1.3863 - accuracy: 0.2541\n",
      "Epoch 5/50\n",
      "31/31 [==============================] - 0s 4ms/step - loss: 1.3863 - accuracy: 0.2558\n",
      "Epoch 6/50\n",
      "31/31 [==============================] - 0s 5ms/step - loss: 1.3864 - accuracy: 0.2516\n",
      "Epoch 7/50\n",
      "31/31 [==============================] - 0s 4ms/step - loss: 1.3863 - accuracy: 0.2510\n",
      "Epoch 8/50\n",
      "31/31 [==============================] - 0s 4ms/step - loss: 1.3863 - accuracy: 0.2522\n",
      "Epoch 9/50\n",
      "31/31 [==============================] - 0s 4ms/step - loss: 1.3863 - accuracy: 0.2549\n",
      "Epoch 10/50\n",
      "31/31 [==============================] - 0s 4ms/step - loss: 1.3862 - accuracy: 0.2554\n",
      "Epoch 11/50\n",
      "31/31 [==============================] - 0s 4ms/step - loss: 1.3863 - accuracy: 0.2536\n",
      "Epoch 12/50\n",
      "31/31 [==============================] - 0s 4ms/step - loss: 1.3863 - accuracy: 0.2536\n",
      "Epoch 13/50\n",
      "31/31 [==============================] - 0s 5ms/step - loss: 1.3862 - accuracy: 0.2526\n",
      "Epoch 14/50\n",
      "31/31 [==============================] - 0s 4ms/step - loss: 1.3862 - accuracy: 0.2545\n",
      "Epoch 15/50\n",
      "31/31 [==============================] - 0s 5ms/step - loss: 1.3861 - accuracy: 0.2577\n",
      "Epoch 16/50\n",
      "31/31 [==============================] - 0s 5ms/step - loss: 1.3859 - accuracy: 0.2584\n",
      "Epoch 17/50\n",
      "31/31 [==============================] - 0s 5ms/step - loss: 1.3857 - accuracy: 0.2618\n",
      "Epoch 18/50\n",
      "31/31 [==============================] - 0s 5ms/step - loss: 1.3853 - accuracy: 0.2618\n",
      "Epoch 19/50\n",
      "31/31 [==============================] - 0s 4ms/step - loss: 1.3845 - accuracy: 0.2675\n",
      "Epoch 20/50\n",
      "31/31 [==============================] - 0s 5ms/step - loss: 1.3842 - accuracy: 0.2707\n",
      "Epoch 21/50\n",
      "31/31 [==============================] - 0s 4ms/step - loss: 1.3832 - accuracy: 0.2724\n",
      "Epoch 22/50\n",
      "31/31 [==============================] - 0s 5ms/step - loss: 1.3821 - accuracy: 0.2807\n",
      "Epoch 23/50\n",
      "31/31 [==============================] - 0s 5ms/step - loss: 1.3808 - accuracy: 0.2878\n",
      "Epoch 24/50\n",
      "31/31 [==============================] - 0s 5ms/step - loss: 1.3794 - accuracy: 0.2835\n",
      "Epoch 25/50\n",
      "31/31 [==============================] - 0s 4ms/step - loss: 1.3773 - accuracy: 0.2884\n",
      "Epoch 26/50\n",
      "31/31 [==============================] - 0s 4ms/step - loss: 1.3759 - accuracy: 0.2892\n",
      "Epoch 27/50\n",
      "31/31 [==============================] - 0s 5ms/step - loss: 1.3755 - accuracy: 0.2874\n",
      "Epoch 28/50\n",
      "31/31 [==============================] - 0s 5ms/step - loss: 1.3736 - accuracy: 0.2905\n",
      "Epoch 29/50\n",
      "31/31 [==============================] - 0s 5ms/step - loss: 1.3719 - accuracy: 0.2980\n",
      "Epoch 30/50\n",
      "31/31 [==============================] - 0s 5ms/step - loss: 1.3697 - accuracy: 0.2929\n",
      "Epoch 31/50\n",
      "31/31 [==============================] - 0s 5ms/step - loss: 1.3707 - accuracy: 0.2937\n",
      "Epoch 32/50\n",
      "31/31 [==============================] - 0s 4ms/step - loss: 1.3699 - accuracy: 0.2910\n",
      "Epoch 33/50\n",
      "31/31 [==============================] - 0s 5ms/step - loss: 1.3695 - accuracy: 0.2938\n",
      "Epoch 34/50\n",
      "31/31 [==============================] - 0s 5ms/step - loss: 1.3683 - accuracy: 0.2940\n",
      "Epoch 35/50\n",
      "31/31 [==============================] - 0s 5ms/step - loss: 1.3668 - accuracy: 0.2939\n",
      "Epoch 36/50\n",
      "31/31 [==============================] - 0s 5ms/step - loss: 1.3654 - accuracy: 0.3020\n",
      "Epoch 37/50\n",
      "31/31 [==============================] - 0s 5ms/step - loss: 1.3642 - accuracy: 0.3006\n",
      "Epoch 38/50\n",
      "31/31 [==============================] - 0s 4ms/step - loss: 1.3636 - accuracy: 0.3031\n",
      "Epoch 39/50\n",
      "31/31 [==============================] - 0s 5ms/step - loss: 1.3626 - accuracy: 0.3056\n",
      "Epoch 40/50\n",
      "31/31 [==============================] - 0s 5ms/step - loss: 1.3612 - accuracy: 0.3128\n",
      "Epoch 41/50\n",
      "31/31 [==============================] - 0s 5ms/step - loss: 1.3606 - accuracy: 0.3068\n",
      "Epoch 42/50\n",
      "31/31 [==============================] - 0s 5ms/step - loss: 1.3586 - accuracy: 0.3093\n",
      "Epoch 43/50\n",
      "31/31 [==============================] - 0s 5ms/step - loss: 1.3564 - accuracy: 0.3156\n",
      "Epoch 44/50\n",
      "31/31 [==============================] - 0s 5ms/step - loss: 1.3550 - accuracy: 0.3213\n",
      "Epoch 45/50\n",
      "31/31 [==============================] - 0s 4ms/step - loss: 1.3529 - accuracy: 0.3181\n",
      "Epoch 46/50\n",
      "31/31 [==============================] - 0s 4ms/step - loss: 1.3513 - accuracy: 0.3193\n",
      "Epoch 47/50\n",
      "31/31 [==============================] - 0s 5ms/step - loss: 1.3515 - accuracy: 0.3228\n",
      "Epoch 48/50\n",
      "31/31 [==============================] - 0s 5ms/step - loss: 1.3496 - accuracy: 0.3269\n",
      "Epoch 49/50\n",
      "31/31 [==============================] - 0s 5ms/step - loss: 1.3488 - accuracy: 0.3285\n",
      "Epoch 50/50\n",
      "31/31 [==============================] - 0s 5ms/step - loss: 1.3461 - accuracy: 0.3299\n"
     ]
    },
    {
     "data": {
      "text/plain": [
       "<keras.callbacks.History at 0x1dab6a161a0>"
      ]
     },
     "execution_count": 44,
     "metadata": {},
     "output_type": "execute_result"
    }
   ],
   "source": [
    "model.compile(optimizer='adam',\n",
    "              loss='sparse_categorical_crossentropy',\n",
    "              metrics=['accuracy'])\n",
    "model.fit(tr_features, tr_labels, epochs=50, batch_size=1024)"
   ]
  },
  {
   "cell_type": "code",
   "execution_count": 45,
   "metadata": {},
   "outputs": [
    {
     "name": "stdout",
     "output_type": "stream",
     "text": [
      "WARNING:tensorflow:AutoGraph could not transform <function Model.make_test_function.<locals>.test_function at 0x000001DAB579BB50> and will run it as-is.\n",
      "Please report this to the TensorFlow team. When filing the bug, set the verbosity to 10 (on Linux, `export AUTOGRAPH_VERBOSITY=10`) and attach the full output.\n",
      "Cause: module 'gast' has no attribute 'Constant'\n",
      "To silence this warning, decorate the function with @tf.autograph.experimental.do_not_convert\n",
      "WARNING: AutoGraph could not transform <function Model.make_test_function.<locals>.test_function at 0x000001DAB579BB50> and will run it as-is.\n",
      "Please report this to the TensorFlow team. When filing the bug, set the verbosity to 10 (on Linux, `export AUTOGRAPH_VERBOSITY=10`) and attach the full output.\n",
      "Cause: module 'gast' has no attribute 'Constant'\n",
      "To silence this warning, decorate the function with @tf.autograph.experimental.do_not_convert\n",
      "248/248 [==============================] - 0s 2ms/step - loss: 1.3327 - accuracy: 0.3550\n",
      "Loss: 1.332669734954834\n",
      "Accuracy: 0.35502585768699646\n"
     ]
    }
   ],
   "source": [
    "loss, accuracy = model.evaluate(te_features, te_labels)\n",
    "print(\"Loss:\", loss)\n",
    "print(\"Accuracy:\", accuracy)"
   ]
  }
 ],
 "metadata": {
  "kernelspec": {
   "display_name": "Python 3",
   "language": "python",
   "name": "python3"
  },
  "language_info": {
   "codemirror_mode": {
    "name": "ipython",
    "version": 3
   },
   "file_extension": ".py",
   "mimetype": "text/x-python",
   "name": "python",
   "nbconvert_exporter": "python",
   "pygments_lexer": "ipython3",
   "version": "3.10.9"
  },
  "orig_nbformat": 4
 },
 "nbformat": 4,
 "nbformat_minor": 2
}
